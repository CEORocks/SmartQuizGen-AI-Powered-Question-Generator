{
 "cells": [
  {
   "cell_type": "markdown",
   "metadata": {},
   "source": [
    "# Data exploration - SQuAD v1"
   ]
  },
  {
   "cell_type": "code",
   "execution_count": 14,
   "metadata": {},
   "outputs": [],
   "source": [
    "#Imports\n",
    "import pandas as pd\n",
    "from IPython.display import Markdown, display, clear_output\n",
    "from nltk import tokenize\n",
    "from scipy import stats\n",
    "from IPython.core.debugger import set_trace"
   ]
  },
  {
   "cell_type": "markdown",
   "metadata": {},
   "source": [
    "### Pretty printing"
   ]
  },
  {
   "cell_type": "code",
   "execution_count": 15,
   "metadata": {},
   "outputs": [],
   "source": [
    "def printBold(string):\n",
    "    display(Markdown('**' + string + '**'))\n",
    "    \n",
    "#def printColor():\n",
    "#     display(Markdown('<span style=\"color:blue\">blue</span>'))"
   ]
  },
  {
   "cell_type": "markdown",
   "metadata": {},
   "source": [
    "## Reading the datasets"
   ]
  },
  {
   "cell_type": "markdown",
   "metadata": {},
   "source": [
    "Since we aren't really doing the answering of the questions, as is the true intention for the dataset, we'll merge the train and dev datasets into one. The test dataset is probably hidden, since there's a competition for it."
   ]
  },
  {
   "cell_type": "code",
   "execution_count": 16,
   "metadata": {},
   "outputs": [],
   "source": [
    "train = pd.read_json('../data/squad-v1/train-v1.1.json', orient='column')\n",
    "dev = pd.read_json('../data/squad-v1/dev-v1.1.json', orient='column')"
   ]
  },
  {
   "cell_type": "code",
   "execution_count": 17,
   "metadata": {},
   "outputs": [],
   "source": [
    "df = pd.concat([train, dev], ignore_index=True)"
   ]
  },
  {
   "cell_type": "code",
   "execution_count": 18,
   "metadata": {
    "scrolled": true
   },
   "outputs": [
    {
     "data": {
      "text/html": [
       "<div>\n",
       "<style scoped>\n",
       "    .dataframe tbody tr th:only-of-type {\n",
       "        vertical-align: middle;\n",
       "    }\n",
       "\n",
       "    .dataframe tbody tr th {\n",
       "        vertical-align: top;\n",
       "    }\n",
       "\n",
       "    .dataframe thead th {\n",
       "        text-align: right;\n",
       "    }\n",
       "</style>\n",
       "<table border=\"1\" class=\"dataframe\">\n",
       "  <thead>\n",
       "    <tr style=\"text-align: right;\">\n",
       "      <th></th>\n",
       "      <th>data</th>\n",
       "      <th>version</th>\n",
       "    </tr>\n",
       "  </thead>\n",
       "  <tbody>\n",
       "    <tr>\n",
       "      <th>0</th>\n",
       "      <td>{'title': 'University_of_Notre_Dame', 'paragra...</td>\n",
       "      <td>1.1</td>\n",
       "    </tr>\n",
       "    <tr>\n",
       "      <th>1</th>\n",
       "      <td>{'title': 'Beyoncé', 'paragraphs': [{'context'...</td>\n",
       "      <td>1.1</td>\n",
       "    </tr>\n",
       "    <tr>\n",
       "      <th>2</th>\n",
       "      <td>{'title': 'Montana', 'paragraphs': [{'context'...</td>\n",
       "      <td>1.1</td>\n",
       "    </tr>\n",
       "    <tr>\n",
       "      <th>3</th>\n",
       "      <td>{'title': 'Genocide', 'paragraphs': [{'context...</td>\n",
       "      <td>1.1</td>\n",
       "    </tr>\n",
       "    <tr>\n",
       "      <th>4</th>\n",
       "      <td>{'title': 'Antibiotics', 'paragraphs': [{'cont...</td>\n",
       "      <td>1.1</td>\n",
       "    </tr>\n",
       "  </tbody>\n",
       "</table>\n",
       "</div>"
      ],
      "text/plain": [
       "                                                data  version\n",
       "0  {'title': 'University_of_Notre_Dame', 'paragra...      1.1\n",
       "1  {'title': 'Beyoncé', 'paragraphs': [{'context'...      1.1\n",
       "2  {'title': 'Montana', 'paragraphs': [{'context'...      1.1\n",
       "3  {'title': 'Genocide', 'paragraphs': [{'context...      1.1\n",
       "4  {'title': 'Antibiotics', 'paragraphs': [{'cont...      1.1"
      ]
     },
     "execution_count": 18,
     "metadata": {},
     "output_type": "execute_result"
    }
   ],
   "source": [
    "df.head()"
   ]
  },
  {
   "cell_type": "markdown",
   "metadata": {},
   "source": [
    "Let's look at a what we've got."
   ]
  },
  {
   "cell_type": "code",
   "execution_count": 59,
   "metadata": {},
   "outputs": [],
   "source": [
    "def showQuestion(titleId, paragraphId, questionId):\n",
    "\n",
    "    title = df['data'][titleId]['title']\n",
    "    paragraph = df['data'][titleId]['paragraphs'][paragraphId]['context']\n",
    "    question = df['data'][titleId]['paragraphs'][paragraphId]['qas'][questionId]['question']\n",
    "    answer = df['data'][titleId]['paragraphs'][paragraphId]['qas'][questionId]['answers'][0]['text']\n",
    "    answerStart = df['data'][titleId]['paragraphs'][paragraphId]['qas'][questionId]['answers'][0]['answer_start']\n",
    "\n",
    "    printBold('Title')\n",
    "    print(title)\n",
    "    printBold('Paragraph')\n",
    "    print(paragraph)\n",
    "    printBold('Question')\n",
    "    print(question)\n",
    "    printBold('Answer')\n",
    "    print(answerStart)\n",
    "    print(answer)"
   ]
  },
  {
   "cell_type": "code",
   "execution_count": 60,
   "metadata": {},
   "outputs": [
    {
     "data": {
      "text/markdown": [
       "**Title**"
      ],
      "text/plain": [
       "<IPython.core.display.Markdown object>"
      ]
     },
     "metadata": {},
     "output_type": "display_data"
    },
    {
     "name": "stdout",
     "output_type": "stream",
     "text": [
      "University_of_Notre_Dame\n"
     ]
    },
    {
     "data": {
      "text/markdown": [
       "**Paragraph**"
      ],
      "text/plain": [
       "<IPython.core.display.Markdown object>"
      ]
     },
     "metadata": {},
     "output_type": "display_data"
    },
    {
     "name": "stdout",
     "output_type": "stream",
     "text": [
      "Architecturally, the school has a Catholic character. Atop the Main Building's gold dome is a golden statue of the Virgin Mary. Immediately in front of the Main Building and facing it, is a copper statue of Christ with arms upraised with the legend \"Venite Ad Me Omnes\". Next to the Main Building is the Basilica of the Sacred Heart. Immediately behind the basilica is the Grotto, a Marian place of prayer and reflection. It is a replica of the grotto at Lourdes, France where the Virgin Mary reputedly appeared to Saint Bernadette Soubirous in 1858. At the end of the main drive (and in a direct line that connects through 3 statues and the Gold Dome), is a simple, modern stone statue of Mary.\n"
     ]
    },
    {
     "data": {
      "text/markdown": [
       "**Question**"
      ],
      "text/plain": [
       "<IPython.core.display.Markdown object>"
      ]
     },
     "metadata": {},
     "output_type": "display_data"
    },
    {
     "name": "stdout",
     "output_type": "stream",
     "text": [
      "To whom did the Virgin Mary allegedly appear in 1858 in Lourdes France?\n"
     ]
    },
    {
     "data": {
      "text/markdown": [
       "**Answer**"
      ],
      "text/plain": [
       "<IPython.core.display.Markdown object>"
      ]
     },
     "metadata": {},
     "output_type": "display_data"
    },
    {
     "name": "stdout",
     "output_type": "stream",
     "text": [
      "515\n",
      "Saint Bernadette Soubirous\n"
     ]
    }
   ],
   "source": [
    "titleId = 0\n",
    "paragraphId = 0 \n",
    "questionId = 0\n",
    "\n",
    "showQuestion(titleId, paragraphId, questionId)"
   ]
  },
  {
   "cell_type": "markdown",
   "metadata": {},
   "source": [
    "## Dataset size"
   ]
  },
  {
   "cell_type": "code",
   "execution_count": 21,
   "metadata": {},
   "outputs": [
    {
     "name": "stdout",
     "output_type": "stream",
     "text": [
      "Titles 490\n",
      "Paragraphs 20963\n",
      "Questions 98169\n"
     ]
    }
   ],
   "source": [
    "titlesCount = len(df['data'])\n",
    "totalParagraphsCount = 0\n",
    "totalQuestionsCount = 0\n",
    "\n",
    "for titleId in range(titlesCount):\n",
    "    paragraphsCount = len(df['data'][titleId]['paragraphs'])\n",
    "    totalParagraphsCount += paragraphsCount\n",
    "    \n",
    "    for paragraphId in range(paragraphsCount):\n",
    "        questionsCount = len(df['data'][titleId]['paragraphs'][paragraphId]['qas'])\n",
    "        \n",
    "        totalQuestionsCount += questionsCount\n",
    "        \n",
    "print('Titles', titlesCount)\n",
    "print('Paragraphs', totalParagraphsCount)\n",
    "print('Questions', totalQuestionsCount)"
   ]
  },
  {
   "cell_type": "markdown",
   "metadata": {},
   "source": [
    "## Titles"
   ]
  },
  {
   "cell_type": "code",
   "execution_count": 22,
   "metadata": {},
   "outputs": [
    {
     "data": {
      "text/plain": [
       "['University_of_Notre_Dame',\n",
       " 'Beyoncé',\n",
       " 'Montana',\n",
       " 'Genocide',\n",
       " 'Antibiotics',\n",
       " 'Frédéric_Chopin',\n",
       " 'Sino-Tibetan_relations_during_the_Ming_dynasty',\n",
       " 'IPod',\n",
       " 'The_Legend_of_Zelda:_Twilight_Princess',\n",
       " 'Spectre_(2015_film)',\n",
       " '2008_Sichuan_earthquake',\n",
       " 'New_York_City',\n",
       " 'To_Kill_a_Mockingbird',\n",
       " 'Solar_energy',\n",
       " 'Tajikistan',\n",
       " 'Anthropology',\n",
       " 'Portugal',\n",
       " 'Kanye_West',\n",
       " 'Buddhism',\n",
       " 'American_Idol',\n",
       " 'Dog',\n",
       " '2008_Summer_Olympics_torch_relay',\n",
       " 'Alfred_North_Whitehead',\n",
       " 'Financial_crisis_of_2007%E2%80%9308',\n",
       " 'Saint_Barth%C3%A9lemy',\n",
       " 'Genome',\n",
       " 'Comprehensive_school',\n",
       " 'Republic_of_the_Congo',\n",
       " 'Prime_minister',\n",
       " 'Institute_of_technology',\n",
       " 'Wayback_Machine',\n",
       " 'Dutch_Republic',\n",
       " 'Symbiosis',\n",
       " 'Canadian_Armed_Forces',\n",
       " 'Cardinal_(Catholicism)',\n",
       " 'Iranian_languages',\n",
       " 'Lighting',\n",
       " 'Separation_of_powers_under_the_United_States_Constitution',\n",
       " 'Architecture',\n",
       " 'Human_Development_Index',\n",
       " 'Southern_Europe',\n",
       " 'BBC_Television',\n",
       " 'Arnold_Schwarzenegger',\n",
       " 'Plymouth',\n",
       " 'Heresy',\n",
       " 'Warsaw_Pact',\n",
       " 'Materialism',\n",
       " 'Space_Race',\n",
       " 'Pub',\n",
       " 'Christian',\n",
       " 'Sony_Music_Entertainment',\n",
       " 'Oklahoma_City',\n",
       " 'Hunter-gatherer',\n",
       " 'United_Nations_Population_Fund',\n",
       " 'Russian_Soviet_Federative_Socialist_Republic',\n",
       " 'Universal_Studios',\n",
       " 'Alexander_Graham_Bell',\n",
       " 'Internet_service_provider',\n",
       " 'Comics',\n",
       " 'Saint_Helena',\n",
       " 'Aspirated_consonant',\n",
       " 'Hydrogen',\n",
       " 'Web_browser',\n",
       " 'Boston',\n",
       " 'BeiDou_Navigation_Satellite_System',\n",
       " 'Canon_law',\n",
       " 'Communications_in_Somalia',\n",
       " 'Catalan_language',\n",
       " 'Estonian_language',\n",
       " 'Paper',\n",
       " 'Arena_Football_League',\n",
       " 'Adult_contemporary_music',\n",
       " 'Matter',\n",
       " 'Westminster_Abbey',\n",
       " 'Nanjing',\n",
       " 'Bern',\n",
       " 'Daylight_saving_time',\n",
       " 'Royal_Institute_of_British_Architects',\n",
       " 'National_Archives_and_Records_Administration',\n",
       " 'Tristan_da_Cunha',\n",
       " 'University_of_Kansas',\n",
       " 'Political_corruption',\n",
       " 'Dialect',\n",
       " 'Classical_music',\n",
       " 'Slavs',\n",
       " 'Southampton',\n",
       " 'Treaty',\n",
       " 'Josip_Broz_Tito',\n",
       " 'Marshall_Islands',\n",
       " 'Szlachta',\n",
       " 'Virgil',\n",
       " 'Alps',\n",
       " 'Gene',\n",
       " 'Guinea-Bissau',\n",
       " 'List_of_numbered_streets_in_Manhattan',\n",
       " 'Brain',\n",
       " 'Near_East',\n",
       " 'Zhejiang',\n",
       " 'Ministry_of_Defence_(United_Kingdom)',\n",
       " 'High-definition_television',\n",
       " 'Wood',\n",
       " 'Somalis',\n",
       " 'Middle_Ages',\n",
       " 'Phonology',\n",
       " 'Computer',\n",
       " 'Black_people',\n",
       " 'The_Times',\n",
       " 'New_Delhi',\n",
       " 'Imamah_(Shia_doctrine)',\n",
       " 'Bird_migration',\n",
       " 'Atlantic_City,_New_Jersey',\n",
       " 'Immunology',\n",
       " 'MP3',\n",
       " 'House_music',\n",
       " 'Letter_case',\n",
       " 'Chihuahua_(state)',\n",
       " 'Pitch_(music)',\n",
       " 'England_national_football_team',\n",
       " 'Houston',\n",
       " 'Copper',\n",
       " 'Identity_(social_science)',\n",
       " 'Himachal_Pradesh',\n",
       " 'Communication',\n",
       " 'Grape',\n",
       " 'Computer_security',\n",
       " 'Orthodox_Judaism',\n",
       " 'Animal',\n",
       " 'Beer',\n",
       " 'Race_and_ethnicity_in_the_United_States_Census',\n",
       " 'United_States_dollar',\n",
       " 'Imperial_College_London',\n",
       " 'Gymnastics',\n",
       " 'Hanover',\n",
       " 'Emotion',\n",
       " 'FC_Barcelona',\n",
       " 'Everton_F.C.',\n",
       " 'Old_English',\n",
       " 'Aircraft_carrier',\n",
       " 'Federal_Aviation_Administration',\n",
       " 'Lancashire',\n",
       " 'Mesozoic',\n",
       " 'Videoconferencing',\n",
       " 'Gregorian_calendar',\n",
       " 'Xbox_360',\n",
       " 'Military_history_of_the_United_States',\n",
       " 'Hard_rock',\n",
       " 'Great_Plains',\n",
       " 'Infrared',\n",
       " 'Biodiversity',\n",
       " 'ASCII',\n",
       " 'Digestion',\n",
       " 'Federal_Bureau_of_Investigation',\n",
       " 'Adolescence',\n",
       " 'Antarctica',\n",
       " 'Mary_(mother_of_Jesus)',\n",
       " 'Melbourne',\n",
       " 'John,_King_of_England',\n",
       " 'Macintosh',\n",
       " 'Anti-aircraft_warfare',\n",
       " 'Sanskrit',\n",
       " 'Valencia',\n",
       " 'General_Electric',\n",
       " 'United_States_Army',\n",
       " 'Franco-Prussian_War',\n",
       " 'Eritrea',\n",
       " 'Uranium',\n",
       " 'Order_of_the_British_Empire',\n",
       " 'Age_of_Enlightenment',\n",
       " 'Circadian_rhythm',\n",
       " 'Elizabeth_II',\n",
       " 'Sexual_orientation',\n",
       " 'Dell',\n",
       " 'Capital_punishment_in_the_United_States',\n",
       " 'Nintendo_Entertainment_System',\n",
       " 'Ashkenazi_Jews',\n",
       " 'Athanasius_of_Alexandria',\n",
       " 'Seattle',\n",
       " 'Memory',\n",
       " 'Multiracial_American',\n",
       " 'Pharmaceutical_industry',\n",
       " 'Umayyad_Caliphate',\n",
       " 'Asphalt',\n",
       " 'Queen_Victoria',\n",
       " 'Freemasonry',\n",
       " 'Israel',\n",
       " 'Hellenistic_period',\n",
       " 'Napoleon',\n",
       " 'Bill_%26_Melinda_Gates_Foundation',\n",
       " 'Northwestern_University',\n",
       " 'Hokkien',\n",
       " 'Montevideo',\n",
       " 'Poultry',\n",
       " 'Arsenal_F.C.',\n",
       " 'Dutch_language',\n",
       " 'Buckingham_Palace',\n",
       " 'Incandescent_light_bulb',\n",
       " 'Clothing',\n",
       " 'Chicago_Cubs',\n",
       " 'States_of_Germany',\n",
       " 'Korean_War',\n",
       " 'Royal_Dutch_Shell',\n",
       " 'Copyright_infringement',\n",
       " 'Greece',\n",
       " 'Mammal',\n",
       " 'East_India_Company',\n",
       " 'Southeast_Asia',\n",
       " 'Professional_wrestling',\n",
       " 'Film_speed',\n",
       " 'Mexico_City',\n",
       " 'Germans',\n",
       " 'New_Haven,_Connecticut',\n",
       " 'Brigham_Young_University',\n",
       " 'Myocardial_infarction',\n",
       " 'Department_store',\n",
       " 'Intellectual_property',\n",
       " 'Florida',\n",
       " 'Queen_(band)',\n",
       " 'Presbyterianism',\n",
       " 'Thuringia',\n",
       " 'Predation',\n",
       " 'Marvel_Comics',\n",
       " 'British_Empire',\n",
       " 'Botany',\n",
       " 'Madonna_(entertainer)',\n",
       " 'London',\n",
       " 'Law_of_the_United_States',\n",
       " 'Myanmar',\n",
       " 'Jews',\n",
       " 'Cotton',\n",
       " 'Data_compression',\n",
       " 'The_Sun_(United_Kingdom)',\n",
       " 'Carnival',\n",
       " 'Pesticide',\n",
       " 'Somerset',\n",
       " 'Yale_University',\n",
       " 'Late_Middle_Ages',\n",
       " 'Ann_Arbor,_Michigan',\n",
       " 'Gothic_architecture',\n",
       " 'Cubism',\n",
       " 'Political_philosophy',\n",
       " 'Alloy',\n",
       " 'Norfolk_Island',\n",
       " 'Edmund_Burke',\n",
       " 'Samoa',\n",
       " 'Pope_Paul_VI',\n",
       " 'George_VI',\n",
       " 'Electric_motor',\n",
       " 'Switzerland',\n",
       " 'Mali',\n",
       " 'Nonprofit_organization',\n",
       " 'Raleigh,_North_Carolina',\n",
       " 'Nutrition',\n",
       " 'Crimean_War',\n",
       " 'Literature',\n",
       " 'Avicenna',\n",
       " 'Chinese_characters',\n",
       " 'Bermuda',\n",
       " 'Nigeria',\n",
       " 'Utrecht',\n",
       " 'John_von_Neumann',\n",
       " 'Molotov%E2%80%93Ribbentrop_Pact',\n",
       " 'Capacitor',\n",
       " 'History_of_science',\n",
       " 'Czech_language',\n",
       " 'Digimon',\n",
       " 'Glacier',\n",
       " 'Planck_constant',\n",
       " 'Comcast',\n",
       " 'Tuberculosis',\n",
       " 'Affirmative_action_in_the_United_States',\n",
       " 'FA_Cup',\n",
       " 'Alsace',\n",
       " 'Baptists',\n",
       " 'Child_labour',\n",
       " 'North_Carolina',\n",
       " 'Heian_period',\n",
       " 'On_the_Origin_of_Species',\n",
       " 'Dissolution_of_the_Soviet_Union',\n",
       " 'Crucifixion_of_Jesus',\n",
       " 'Miami',\n",
       " 'Supreme_court',\n",
       " 'Textual_criticism',\n",
       " 'Gramophone_record',\n",
       " 'Turner_Classic_Movies',\n",
       " 'Hindu_philosophy',\n",
       " 'Political_party',\n",
       " 'A_cappella',\n",
       " 'Dominican_Order',\n",
       " 'Eton_College',\n",
       " 'Cork_(city)',\n",
       " 'Federalism',\n",
       " 'Galicia_(Spain)',\n",
       " 'Green',\n",
       " 'USB',\n",
       " 'Sichuan',\n",
       " 'Unicode',\n",
       " 'Detroit',\n",
       " 'Culture',\n",
       " 'Sahara',\n",
       " 'Rule_of_law',\n",
       " 'Tibet',\n",
       " 'Exhibition_game',\n",
       " 'Strasbourg',\n",
       " 'Oklahoma',\n",
       " 'History_of_India',\n",
       " 'Gamal_Abdel_Nasser',\n",
       " 'Pope_John_XXIII',\n",
       " 'Time',\n",
       " 'European_Central_Bank',\n",
       " 'St._John%27s,_Newfoundland_and_Labrador',\n",
       " 'PlayStation_3',\n",
       " 'Royal_assent',\n",
       " 'Group_(mathematics)',\n",
       " 'Central_African_Republic',\n",
       " 'Asthma',\n",
       " 'LaserDisc',\n",
       " 'Annelid',\n",
       " 'God',\n",
       " 'War_on_Terror',\n",
       " 'Labour_Party_(UK)',\n",
       " 'Estonia',\n",
       " 'Serbo-Croatian',\n",
       " 'Alaska',\n",
       " 'Karl_Popper',\n",
       " 'Mandolin',\n",
       " 'Insect',\n",
       " 'Race_(human_categorization)',\n",
       " 'Paris',\n",
       " 'Apollo',\n",
       " 'United_States_presidential_election,_2004',\n",
       " 'IBM',\n",
       " 'Liberal_Party_of_Australia',\n",
       " 'Samurai',\n",
       " 'Software_testing',\n",
       " 'Glass',\n",
       " 'Renewable_energy_commercialization',\n",
       " 'Palermo',\n",
       " 'Zinc',\n",
       " 'Neoclassical_architecture',\n",
       " 'CBC_Television',\n",
       " 'Appalachian_Mountains',\n",
       " 'Energy',\n",
       " 'East_Prussia',\n",
       " 'Ottoman_Empire',\n",
       " 'Philosophy_of_space_and_time',\n",
       " 'Neolithic',\n",
       " 'Friedrich_Hayek',\n",
       " 'Diarrhea',\n",
       " 'Madrasa',\n",
       " 'Philadelphia',\n",
       " 'John_Kerry',\n",
       " 'Rajasthan',\n",
       " 'Guam',\n",
       " 'Empiricism',\n",
       " 'Idealism',\n",
       " 'Education',\n",
       " 'Tennessee',\n",
       " 'Post-punk',\n",
       " 'Canadian_football',\n",
       " 'Seven_Years%27_War',\n",
       " 'Richard_Feynman',\n",
       " 'Muammar_Gaddafi',\n",
       " 'Cyprus',\n",
       " 'Steven_Spielberg',\n",
       " 'Elevator',\n",
       " 'Neptune',\n",
       " 'Railway_electrification_system',\n",
       " 'Spanish_language_in_the_United_States',\n",
       " 'Charleston,_South_Carolina',\n",
       " 'Red',\n",
       " 'The_Blitz',\n",
       " 'Endangered_Species_Act',\n",
       " 'Vacuum',\n",
       " 'Han_dynasty',\n",
       " 'Greeks',\n",
       " 'Quran',\n",
       " 'Great_power',\n",
       " 'Geography_of_the_United_States',\n",
       " 'Compact_disc',\n",
       " 'Transistor',\n",
       " 'Modern_history',\n",
       " '51st_state',\n",
       " 'Antenna_(radio)',\n",
       " 'Flowering_plant',\n",
       " 'Hyderabad',\n",
       " 'Santa_Monica,_California',\n",
       " 'Washington_University_in_St._Louis',\n",
       " 'Central_Intelligence_Agency',\n",
       " 'Pain',\n",
       " 'Database',\n",
       " 'Tucson,_Arizona',\n",
       " 'Armenia',\n",
       " 'Bacteria',\n",
       " 'Printed_circuit_board',\n",
       " 'Premier_League',\n",
       " 'Roman_Republic',\n",
       " 'Pacific_War',\n",
       " 'Richmond,_Virginia',\n",
       " 'San_Diego',\n",
       " 'Muslim_world',\n",
       " 'Iran',\n",
       " 'British_Isles',\n",
       " 'Association_football',\n",
       " 'Georgian_architecture',\n",
       " 'Liberia',\n",
       " 'Windows_8',\n",
       " 'Swaziland',\n",
       " 'Translation',\n",
       " 'Airport',\n",
       " 'Kievan_Rus%27',\n",
       " 'Super_Nintendo_Entertainment_System',\n",
       " 'Sumer',\n",
       " 'Tuvalu',\n",
       " 'Immaculate_Conception',\n",
       " 'Namibia',\n",
       " 'Russian_language',\n",
       " 'United_States_Air_Force',\n",
       " 'Light-emitting_diode',\n",
       " 'Bird',\n",
       " 'Qing_dynasty',\n",
       " 'Indigenous_peoples_of_the_Americas',\n",
       " 'Egypt',\n",
       " 'Mosaic',\n",
       " 'University',\n",
       " 'Religion_in_ancient_Rome',\n",
       " 'YouTube',\n",
       " 'Separation_of_church_and_state_in_the_United_States',\n",
       " 'Protestantism',\n",
       " 'Bras%C3%ADlia',\n",
       " 'Economy_of_Greece',\n",
       " 'Party_leaders_of_the_United_States_House_of_Representatives',\n",
       " 'Armenians',\n",
       " 'Jehovah%27s_Witnesses',\n",
       " 'Dwight_D._Eisenhower',\n",
       " 'The_Bronx',\n",
       " 'Humanism',\n",
       " 'Geological_history_of_Earth',\n",
       " 'Police',\n",
       " 'Punjab,_Pakistan',\n",
       " 'Infection',\n",
       " 'Hunting',\n",
       " 'Kathmandu',\n",
       " 'Super_Bowl_50',\n",
       " 'Warsaw',\n",
       " 'Normans',\n",
       " 'Nikola_Tesla',\n",
       " 'Computational_complexity_theory',\n",
       " 'Teacher',\n",
       " 'Martin_Luther',\n",
       " 'Southern_California',\n",
       " 'Sky_(United_Kingdom)',\n",
       " 'Victoria_(Australia)',\n",
       " 'Huguenot',\n",
       " 'Steam_engine',\n",
       " 'Oxygen',\n",
       " '1973_oil_crisis',\n",
       " 'Apollo_program',\n",
       " 'European_Union_law',\n",
       " 'Amazon_rainforest',\n",
       " 'Ctenophora',\n",
       " 'Fresno,_California',\n",
       " 'Packet_switching',\n",
       " 'Black_Death',\n",
       " 'Geology',\n",
       " 'Newcastle_upon_Tyne',\n",
       " 'Victoria_and_Albert_Museum',\n",
       " 'American_Broadcasting_Company',\n",
       " 'Genghis_Khan',\n",
       " 'Pharmacy',\n",
       " 'Immune_system',\n",
       " 'Civil_disobedience',\n",
       " 'Construction',\n",
       " 'Private_school',\n",
       " 'Harvard_University',\n",
       " 'Jacksonville,_Florida',\n",
       " 'Economic_inequality',\n",
       " 'Doctor_Who',\n",
       " 'University_of_Chicago',\n",
       " 'Yuan_dynasty',\n",
       " 'Kenya',\n",
       " 'Intergovernmental_Panel_on_Climate_Change',\n",
       " 'Chloroplast',\n",
       " 'Prime_number',\n",
       " 'Rhine',\n",
       " 'Scottish_Parliament',\n",
       " 'Islamism',\n",
       " 'Imperialism',\n",
       " 'United_Methodist_Church',\n",
       " 'French_and_Indian_War',\n",
       " 'Force']"
      ]
     },
     "execution_count": 22,
     "metadata": {},
     "output_type": "execute_result"
    }
   ],
   "source": [
    "titles = []\n",
    "for titleId in range(len(df['data'])):\n",
    "    titles.append(df['data'][titleId]['title'])\n",
    "    \n",
    "titles"
   ]
  },
  {
   "cell_type": "markdown",
   "metadata": {},
   "source": [
    "Titles are pretty random. Seems to be a lot of locations like countries and cities but not nearly enough to afford splitting the dataset."
   ]
  },
  {
   "cell_type": "markdown",
   "metadata": {},
   "source": [
    "## Questions"
   ]
  },
  {
   "cell_type": "markdown",
   "metadata": {},
   "source": [
    "One of our main assumptions is that the sentence that contains the answer could be turned into a question just by removing the answer from it. Let's see how much of that is true for the questions in this dataset."
   ]
  },
  {
   "cell_type": "code",
   "execution_count": 23,
   "metadata": {},
   "outputs": [
    {
     "data": {
      "text/markdown": [
       "**Title**"
      ],
      "text/plain": [
       "<IPython.core.display.Markdown object>"
      ]
     },
     "metadata": {},
     "output_type": "display_data"
    },
    {
     "name": "stdout",
     "output_type": "stream",
     "text": [
      "University_of_Notre_Dame\n"
     ]
    },
    {
     "data": {
      "text/markdown": [
       "**Paragraph**"
      ],
      "text/plain": [
       "<IPython.core.display.Markdown object>"
      ]
     },
     "metadata": {},
     "output_type": "display_data"
    },
    {
     "name": "stdout",
     "output_type": "stream",
     "text": [
      "Architecturally, the school has a Catholic character. Atop the Main Building's gold dome is a golden statue of the Virgin Mary. Immediately in front of the Main Building and facing it, is a copper statue of Christ with arms upraised with the legend \"Venite Ad Me Omnes\". Next to the Main Building is the Basilica of the Sacred Heart. Immediately behind the basilica is the Grotto, a Marian place of prayer and reflection. It is a replica of the grotto at Lourdes, France where the Virgin Mary reputedly appeared to Saint Bernadette Soubirous in 1858. At the end of the main drive (and in a direct line that connects through 3 statues and the Gold Dome), is a simple, modern stone statue of Mary.\n"
     ]
    },
    {
     "data": {
      "text/markdown": [
       "**Question**"
      ],
      "text/plain": [
       "<IPython.core.display.Markdown object>"
      ]
     },
     "metadata": {},
     "output_type": "display_data"
    },
    {
     "name": "stdout",
     "output_type": "stream",
     "text": [
      "To whom did the Virgin Mary allegedly appear in 1858 in Lourdes France?\n"
     ]
    },
    {
     "data": {
      "text/markdown": [
       "**Answer**"
      ],
      "text/plain": [
       "<IPython.core.display.Markdown object>"
      ]
     },
     "metadata": {},
     "output_type": "display_data"
    },
    {
     "name": "stdout",
     "output_type": "stream",
     "text": [
      "Saint Bernadette Soubirous\n"
     ]
    }
   ],
   "source": [
    "titleId = 0\n",
    "paragraphId = 0 \n",
    "questionId = 0\n",
    "\n",
    "showQuestion(titleId, paragraphId, questionId)"
   ]
  },
  {
   "cell_type": "code",
   "execution_count": 25,
   "metadata": {},
   "outputs": [],
   "source": [
    "def extractSentence(paragrapgh, answerStart):\n",
    "    sentences = tokenize.sent_tokenize(paragrapgh)\n",
    "    \n",
    "    sentenceStart = 0\n",
    "    \n",
    "    for sentence in sentences:\n",
    "        if (sentenceStart + len(sentence) >= answerStart):\n",
    "            return sentence         \n",
    "        \n",
    "        sentenceStart += len(sentence) + 1"
   ]
  },
  {
   "cell_type": "code",
   "execution_count": 26,
   "metadata": {},
   "outputs": [
    {
     "name": "stdout",
     "output_type": "stream",
     "text": [
      "It is a replica of the grotto at Lourdes, France where the Virgin Mary reputedly appeared to Saint Bernadette Soubirous in 1858.\n"
     ]
    }
   ],
   "source": [
    "paragrapgh = df['data'][0]['paragraphs'][0]['context']\n",
    "answerStart = df['data'][0]['paragraphs'][0]['qas'][0]['answers'][0]['answer_start']\n",
    "\n",
    "sentence = extractSentence(paragrapgh, answerStart)\n",
    "print(sentence)"
   ]
  },
  {
   "cell_type": "code",
   "execution_count": 27,
   "metadata": {},
   "outputs": [],
   "source": [
    "def containedInText(text, question):\n",
    "    \n",
    "    questionWords = tokenize.word_tokenize(question.lower())\n",
    "    textWords = tokenize.word_tokenize(text.lower())\n",
    "    wordsContained = 0\n",
    "\n",
    "    for questionWord in questionWords:\n",
    "        for textWord in textWords:\n",
    "            if (questionWord == textWord):\n",
    "                wordsContained += 1\n",
    "                break\n",
    "\n",
    "    return wordsContained / len(questionWords)"
   ]
  },
  {
   "cell_type": "code",
   "execution_count": 28,
   "metadata": {},
   "outputs": [],
   "source": [
    "question =  df['data'][0]['paragraphs'][0]['qas'][0]['question']\n",
    "\n",
    "contained = containedInText(sentence, question)"
   ]
  },
  {
   "cell_type": "code",
   "execution_count": 29,
   "metadata": {},
   "outputs": [
    {
     "data": {
      "text/markdown": [
       "**Question**"
      ],
      "text/plain": [
       "<IPython.core.display.Markdown object>"
      ]
     },
     "metadata": {},
     "output_type": "display_data"
    },
    {
     "name": "stdout",
     "output_type": "stream",
     "text": [
      "To whom did the Virgin Mary allegedly appear in 1858 in Lourdes France?\n"
     ]
    },
    {
     "data": {
      "text/markdown": [
       "**Sentence**"
      ],
      "text/plain": [
       "<IPython.core.display.Markdown object>"
      ]
     },
     "metadata": {},
     "output_type": "display_data"
    },
    {
     "name": "stdout",
     "output_type": "stream",
     "text": [
      "It is a replica of the grotto at Lourdes, France where the Virgin Mary reputedly appeared to Saint Bernadette Soubirous in 1858.\n"
     ]
    },
    {
     "data": {
      "text/markdown": [
       "**Contained**"
      ],
      "text/plain": [
       "<IPython.core.display.Markdown object>"
      ]
     },
     "metadata": {},
     "output_type": "display_data"
    },
    {
     "name": "stdout",
     "output_type": "stream",
     "text": [
      "0.6428571428571429\n"
     ]
    }
   ],
   "source": [
    "printBold('Question')\n",
    "print(question)\n",
    "printBold('Sentence')\n",
    "print(sentence)\n",
    "printBold(\"Contained\")\n",
    "print(contained)"
   ]
  },
  {
   "cell_type": "markdown",
   "metadata": {},
   "source": [
    "I wouldn't expect a 100% containment simply because the questions will contain **question-like words** like *Why, Who, *Whom*, What*.\n",
    "\n",
    "In this example we also see that the word appear is contained in the original sentence but in **past tense**. We could take care of that if we take the **stems** of the words, but I think it's better to see the least imaginative way for forming questions.\n",
    "\n",
    "We are also calculating some **common words like *to, the, in*** which could be encountered at different places of the sentence, but again we want to measure the least-creative questions.\n",
    "\n",
    "In this sentece *(damn, that was a good example)* we also see that the question uses the word *allegedly* which is a **synonym** of *reputedly* in the sentence. That could be nice for question forming, but I think it's more of an overkill.\n",
    "\n",
    "We also see that the question actually encompasses the **words around the answer, rather than the entire sentence**. Which is a definate must-do when we form our questions. \n",
    "\n",
    "Let's see what is the score on all of the questons. I'm also curious to see the score on the entire paragraph."
   ]
  },
  {
   "cell_type": "markdown",
   "metadata": {},
   "source": [
    "This may come in handy in the future. Pretty printing the progress."
   ]
  },
  {
   "cell_type": "code",
   "execution_count": 131,
   "metadata": {},
   "outputs": [],
   "source": [
    "#Printint the percentage done\n",
    "def printPercentage(currentStep, maxStep):\n",
    "    stepSize = maxStep / 100\n",
    "    \n",
    "    if (int(currentStep / stepSize) > ((currentStep - 1) / stepSize)):\n",
    "        clear_output()\n",
    "        print('{}%'.format(int(currentStep / stepSize)))"
   ]
  },
  {
   "cell_type": "code",
   "execution_count": 132,
   "metadata": {
    "scrolled": true
   },
   "outputs": [
    {
     "name": "stdout",
     "output_type": "stream",
     "text": [
      "99%\n"
     ]
    }
   ],
   "source": [
    "sentenceScore = []\n",
    "paragrapghScore = []\n",
    "\n",
    "#For each title\n",
    "titlesCount = len(df['data'])\n",
    "for titleId in range(titlesCount):\n",
    "    printPercentage(titleId, titlesCount)\n",
    "    \n",
    "    #For each paragraph\n",
    "    for paragraphId in range(len(df['data'][titleId]['paragraphs'])):\n",
    "        paragrapgh = df['data'][titleId]['paragraphs'][paragraphId]['context']\n",
    "        \n",
    "        #For each question\n",
    "        for questionId in range(len(df['data'][titleId]['paragraphs'][paragraphId]['qas'])):\n",
    "            question = df['data'][titleId]['paragraphs'][paragraphId]['qas'][questionId]['question']\n",
    "            answerStart = df['data'][titleId]['paragraphs'][paragraphId]['qas'][questionId]['answers'][0]['answer_start']\n",
    "            sentence = extractSentence(paragrapgh, answerStart)\n",
    "          \n",
    "            sentenceScore.append(containedInText(sentence, question))\n",
    "            paragrapghScore.append(containedInText(paragrapgh, question))            "
   ]
  },
  {
   "cell_type": "code",
   "execution_count": 109,
   "metadata": {},
   "outputs": [
    {
     "data": {
      "text/html": [
       "<div>\n",
       "<style scoped>\n",
       "    .dataframe tbody tr th:only-of-type {\n",
       "        vertical-align: middle;\n",
       "    }\n",
       "\n",
       "    .dataframe tbody tr th {\n",
       "        vertical-align: top;\n",
       "    }\n",
       "\n",
       "    .dataframe thead th {\n",
       "        text-align: right;\n",
       "    }\n",
       "</style>\n",
       "<table border=\"1\" class=\"dataframe\">\n",
       "  <thead>\n",
       "    <tr style=\"text-align: right;\">\n",
       "      <th></th>\n",
       "      <th>sentence</th>\n",
       "      <th>paragraph</th>\n",
       "    </tr>\n",
       "  </thead>\n",
       "  <tbody>\n",
       "    <tr>\n",
       "      <th>count</th>\n",
       "      <td>98169.000000</td>\n",
       "      <td>98169.000000</td>\n",
       "    </tr>\n",
       "    <tr>\n",
       "      <th>mean</th>\n",
       "      <td>0.463937</td>\n",
       "      <td>0.582157</td>\n",
       "    </tr>\n",
       "    <tr>\n",
       "      <th>std</th>\n",
       "      <td>0.190377</td>\n",
       "      <td>0.159055</td>\n",
       "    </tr>\n",
       "    <tr>\n",
       "      <th>min</th>\n",
       "      <td>0.000000</td>\n",
       "      <td>0.000000</td>\n",
       "    </tr>\n",
       "    <tr>\n",
       "      <th>25%</th>\n",
       "      <td>0.333333</td>\n",
       "      <td>0.500000</td>\n",
       "    </tr>\n",
       "    <tr>\n",
       "      <th>50%</th>\n",
       "      <td>0.461538</td>\n",
       "      <td>0.600000</td>\n",
       "    </tr>\n",
       "    <tr>\n",
       "      <th>75%</th>\n",
       "      <td>0.600000</td>\n",
       "      <td>0.700000</td>\n",
       "    </tr>\n",
       "    <tr>\n",
       "      <th>max</th>\n",
       "      <td>1.000000</td>\n",
       "      <td>1.000000</td>\n",
       "    </tr>\n",
       "  </tbody>\n",
       "</table>\n",
       "</div>"
      ],
      "text/plain": [
       "           sentence     paragraph\n",
       "count  98169.000000  98169.000000\n",
       "mean       0.463937      0.582157\n",
       "std        0.190377      0.159055\n",
       "min        0.000000      0.000000\n",
       "25%        0.333333      0.500000\n",
       "50%        0.461538      0.600000\n",
       "75%        0.600000      0.700000\n",
       "max        1.000000      1.000000"
      ]
     },
     "execution_count": 109,
     "metadata": {},
     "output_type": "execute_result"
    }
   ],
   "source": [
    "sentenceScoreDf = pd.DataFrame(sentenceScore, columns=['sentence'])\n",
    "paragrapghScoreDf = pd.DataFrame(paragrapghScore, columns=['paragraph'])\n",
    "\n",
    "questionContainmentDf = pd.concat([sentenceScoreDf, paragrapghScoreDf], axis=1)\n",
    "questionContainmentDf.describe()"
   ]
  },
  {
   "cell_type": "markdown",
   "metadata": {},
   "source": [
    "I would argue that almost half the words contained is a pretty good result. \n",
    "\n",
    "As expected, contained within the entire paragrapgh is better.\n",
    "\n",
    "I do wonder about those questions that are 100% contained in the answer."
   ]
  },
  {
   "cell_type": "code",
   "execution_count": 110,
   "metadata": {},
   "outputs": [
    {
     "data": {
      "text/html": [
       "<div>\n",
       "<style scoped>\n",
       "    .dataframe tbody tr th:only-of-type {\n",
       "        vertical-align: middle;\n",
       "    }\n",
       "\n",
       "    .dataframe tbody tr th {\n",
       "        vertical-align: top;\n",
       "    }\n",
       "\n",
       "    .dataframe thead th {\n",
       "        text-align: right;\n",
       "    }\n",
       "</style>\n",
       "<table border=\"1\" class=\"dataframe\">\n",
       "  <thead>\n",
       "    <tr style=\"text-align: right;\">\n",
       "      <th></th>\n",
       "      <th>sentence</th>\n",
       "      <th>paragraph</th>\n",
       "    </tr>\n",
       "  </thead>\n",
       "  <tbody>\n",
       "    <tr>\n",
       "      <th>0</th>\n",
       "      <td>0.642857</td>\n",
       "      <td>0.571429</td>\n",
       "    </tr>\n",
       "    <tr>\n",
       "      <th>1</th>\n",
       "      <td>0.636364</td>\n",
       "      <td>0.636364</td>\n",
       "    </tr>\n",
       "    <tr>\n",
       "      <th>2</th>\n",
       "      <td>0.533333</td>\n",
       "      <td>0.600000</td>\n",
       "    </tr>\n",
       "    <tr>\n",
       "      <th>3</th>\n",
       "      <td>0.375000</td>\n",
       "      <td>0.500000</td>\n",
       "    </tr>\n",
       "    <tr>\n",
       "      <th>4</th>\n",
       "      <td>0.333333</td>\n",
       "      <td>0.416667</td>\n",
       "    </tr>\n",
       "    <tr>\n",
       "      <th>5</th>\n",
       "      <td>0.272727</td>\n",
       "      <td>0.636364</td>\n",
       "    </tr>\n",
       "    <tr>\n",
       "      <th>6</th>\n",
       "      <td>0.300000</td>\n",
       "      <td>0.800000</td>\n",
       "    </tr>\n",
       "    <tr>\n",
       "      <th>7</th>\n",
       "      <td>0.363636</td>\n",
       "      <td>0.727273</td>\n",
       "    </tr>\n",
       "    <tr>\n",
       "      <th>8</th>\n",
       "      <td>0.000000</td>\n",
       "      <td>0.545455</td>\n",
       "    </tr>\n",
       "    <tr>\n",
       "      <th>9</th>\n",
       "      <td>0.266667</td>\n",
       "      <td>0.733333</td>\n",
       "    </tr>\n",
       "  </tbody>\n",
       "</table>\n",
       "</div>"
      ],
      "text/plain": [
       "   sentence  paragraph\n",
       "0  0.642857   0.571429\n",
       "1  0.636364   0.636364\n",
       "2  0.533333   0.600000\n",
       "3  0.375000   0.500000\n",
       "4  0.333333   0.416667\n",
       "5  0.272727   0.636364\n",
       "6  0.300000   0.800000\n",
       "7  0.363636   0.727273\n",
       "8  0.000000   0.545455\n",
       "9  0.266667   0.733333"
      ]
     },
     "execution_count": 110,
     "metadata": {},
     "output_type": "execute_result"
    }
   ],
   "source": [
    "questionContainmentDf.head(10)"
   ]
  },
  {
   "cell_type": "code",
   "execution_count": 111,
   "metadata": {},
   "outputs": [],
   "source": [
    "def getQuestionAt(index):\n",
    "    currentIndex = 0\n",
    "    \n",
    "    for titleId in range(len(df['data'])):\n",
    "        for paragraphId in range(len(df['data'][titleId]['paragraphs'])):\n",
    "            for questionId in range(len(df['data'][titleId]['paragraphs'][paragraphId]['qas'])):\n",
    "                if (currentIndex == index):\n",
    "                    return titleId, paragraphId, questionId\n",
    "                currentIndex += 1"
   ]
  },
  {
   "cell_type": "markdown",
   "metadata": {},
   "source": [
    "Let's see question #8 which has 0 containment in the answer sentence. "
   ]
  },
  {
   "cell_type": "code",
   "execution_count": 112,
   "metadata": {},
   "outputs": [
    {
     "data": {
      "text/plain": [
       "(0, 1, 3)"
      ]
     },
     "execution_count": 112,
     "metadata": {},
     "output_type": "execute_result"
    }
   ],
   "source": [
    "getQuestionAt(8)"
   ]
  },
  {
   "cell_type": "code",
   "execution_count": 113,
   "metadata": {},
   "outputs": [
    {
     "data": {
      "text/markdown": [
       "**Title**"
      ],
      "text/plain": [
       "<IPython.core.display.Markdown object>"
      ]
     },
     "metadata": {},
     "output_type": "display_data"
    },
    {
     "name": "stdout",
     "output_type": "stream",
     "text": [
      "University_of_Notre_Dame\n"
     ]
    },
    {
     "data": {
      "text/markdown": [
       "**Paragraph**"
      ],
      "text/plain": [
       "<IPython.core.display.Markdown object>"
      ]
     },
     "metadata": {},
     "output_type": "display_data"
    },
    {
     "name": "stdout",
     "output_type": "stream",
     "text": [
      "As at most other universities, Notre Dame's students run a number of news media outlets. The nine student-run outlets include three newspapers, both a radio and television station, and several magazines and journals. Begun as a one-page journal in September 1876, the Scholastic magazine is issued twice monthly and claims to be the oldest continuous collegiate publication in the United States. The other magazine, The Juggler, is released twice a year and focuses on student literature and artwork. The Dome yearbook is published annually. The newspapers have varying publication interests, with The Observer published daily and mainly reporting university and other news, and staffed by students from both Notre Dame and Saint Mary's College. Unlike Scholastic and The Dome, The Observer is an independent publication and does not have a faculty advisor or any editorial oversight from the University. In 1987, when some students believed that The Observer began to show a conservative bias, a liberal newspaper, Common Sense was published. Likewise, in 2003, when other students believed that the paper showed a liberal bias, the conservative paper Irish Rover went into production. Neither paper is published as often as The Observer; however, all three are distributed to all students. Finally, in Spring 2008 an undergraduate journal for political science research, Beyond Politics, made its debut.\n"
     ]
    },
    {
     "data": {
      "text/markdown": [
       "**Question**"
      ],
      "text/plain": [
       "<IPython.core.display.Markdown object>"
      ]
     },
     "metadata": {},
     "output_type": "display_data"
    },
    {
     "name": "stdout",
     "output_type": "stream",
     "text": [
      "How many student news papers are found at Notre Dame?\n"
     ]
    },
    {
     "data": {
      "text/markdown": [
       "**Answer**"
      ],
      "text/plain": [
       "<IPython.core.display.Markdown object>"
      ]
     },
     "metadata": {},
     "output_type": "display_data"
    },
    {
     "name": "stdout",
     "output_type": "stream",
     "text": [
      "126\n",
      "three\n"
     ]
    }
   ],
   "source": [
    "titleId = 0\n",
    "paragraphId = 1 \n",
    "questionId = 3\n",
    "\n",
    "showQuestion(titleId, paragraphId, questionId)"
   ]
  },
  {
   "cell_type": "markdown",
   "metadata": {},
   "source": [
    "The question is actually formed from the previous sentence."
   ]
  },
  {
   "cell_type": "code",
   "execution_count": 116,
   "metadata": {},
   "outputs": [
    {
     "data": {
      "text/html": [
       "<div>\n",
       "<style scoped>\n",
       "    .dataframe tbody tr th:only-of-type {\n",
       "        vertical-align: middle;\n",
       "    }\n",
       "\n",
       "    .dataframe tbody tr th {\n",
       "        vertical-align: top;\n",
       "    }\n",
       "\n",
       "    .dataframe thead th {\n",
       "        text-align: right;\n",
       "    }\n",
       "</style>\n",
       "<table border=\"1\" class=\"dataframe\">\n",
       "  <thead>\n",
       "    <tr style=\"text-align: right;\">\n",
       "      <th></th>\n",
       "      <th>sentence</th>\n",
       "      <th>paragraph</th>\n",
       "    </tr>\n",
       "  </thead>\n",
       "  <tbody>\n",
       "    <tr>\n",
       "      <th>269</th>\n",
       "      <td>0.0</td>\n",
       "      <td>0.0</td>\n",
       "    </tr>\n",
       "    <tr>\n",
       "      <th>363</th>\n",
       "      <td>0.0</td>\n",
       "      <td>0.0</td>\n",
       "    </tr>\n",
       "    <tr>\n",
       "      <th>505</th>\n",
       "      <td>0.0</td>\n",
       "      <td>0.0</td>\n",
       "    </tr>\n",
       "    <tr>\n",
       "      <th>2781</th>\n",
       "      <td>0.0</td>\n",
       "      <td>0.0</td>\n",
       "    </tr>\n",
       "    <tr>\n",
       "      <th>3678</th>\n",
       "      <td>0.0</td>\n",
       "      <td>0.0</td>\n",
       "    </tr>\n",
       "  </tbody>\n",
       "</table>\n",
       "</div>"
      ],
      "text/plain": [
       "      sentence  paragraph\n",
       "269        0.0        0.0\n",
       "363        0.0        0.0\n",
       "505        0.0        0.0\n",
       "2781       0.0        0.0\n",
       "3678       0.0        0.0"
      ]
     },
     "execution_count": 116,
     "metadata": {},
     "output_type": "execute_result"
    }
   ],
   "source": [
    "questionContainmentDf[questionContainmentDf['paragraph'] == 0].head()"
   ]
  },
  {
   "cell_type": "code",
   "execution_count": 117,
   "metadata": {},
   "outputs": [
    {
     "data": {
      "text/plain": [
       "(1, 0, 0)"
      ]
     },
     "execution_count": 117,
     "metadata": {},
     "output_type": "execute_result"
    }
   ],
   "source": [
    "getQuestionAt(269)"
   ]
  },
  {
   "cell_type": "code",
   "execution_count": 118,
   "metadata": {},
   "outputs": [
    {
     "data": {
      "text/markdown": [
       "**Title**"
      ],
      "text/plain": [
       "<IPython.core.display.Markdown object>"
      ]
     },
     "metadata": {},
     "output_type": "display_data"
    },
    {
     "name": "stdout",
     "output_type": "stream",
     "text": [
      "Beyoncé\n"
     ]
    },
    {
     "data": {
      "text/markdown": [
       "**Paragraph**"
      ],
      "text/plain": [
       "<IPython.core.display.Markdown object>"
      ]
     },
     "metadata": {},
     "output_type": "display_data"
    },
    {
     "name": "stdout",
     "output_type": "stream",
     "text": [
      "Beyoncé Giselle Knowles-Carter (/biːˈjɒnseɪ/ bee-YON-say) (born September 4, 1981) is an American singer, songwriter, record producer and actress. Born and raised in Houston, Texas, she performed in various singing and dancing competitions as a child, and rose to fame in the late 1990s as lead singer of R&B girl-group Destiny's Child. Managed by her father, Mathew Knowles, the group became one of the world's best-selling girl groups of all time. Their hiatus saw the release of Beyoncé's debut album, Dangerously in Love (2003), which established her as a solo artist worldwide, earned five Grammy Awards and featured the Billboard Hot 100 number-one singles \"Crazy in Love\" and \"Baby Boy\".\n"
     ]
    },
    {
     "data": {
      "text/markdown": [
       "**Question**"
      ],
      "text/plain": [
       "<IPython.core.display.Markdown object>"
      ]
     },
     "metadata": {},
     "output_type": "display_data"
    },
    {
     "name": "stdout",
     "output_type": "stream",
     "text": [
      "When did Beyonce start becoming popular?\n"
     ]
    },
    {
     "data": {
      "text/markdown": [
       "**Answer**"
      ],
      "text/plain": [
       "<IPython.core.display.Markdown object>"
      ]
     },
     "metadata": {},
     "output_type": "display_data"
    },
    {
     "name": "stdout",
     "output_type": "stream",
     "text": [
      "269\n",
      "in the late 1990s\n"
     ]
    }
   ],
   "source": [
    "titleId = 1\n",
    "paragraphId = 0 \n",
    "questionId = 0\n",
    "\n",
    "showQuestion(titleId, paragraphId, questionId)"
   ]
  },
  {
   "cell_type": "markdown",
   "metadata": {},
   "source": [
    "A **synonym** case - *instead of rose to fame*, *start becoming popular* is used."
   ]
  },
  {
   "cell_type": "code",
   "execution_count": 120,
   "metadata": {},
   "outputs": [
    {
     "data": {
      "text/plain": [
       "(1, 18, 6)"
      ]
     },
     "execution_count": 120,
     "metadata": {},
     "output_type": "execute_result"
    }
   ],
   "source": [
    "getQuestionAt(505)"
   ]
  },
  {
   "cell_type": "code",
   "execution_count": 121,
   "metadata": {},
   "outputs": [
    {
     "data": {
      "text/markdown": [
       "**Title**"
      ],
      "text/plain": [
       "<IPython.core.display.Markdown object>"
      ]
     },
     "metadata": {},
     "output_type": "display_data"
    },
    {
     "name": "stdout",
     "output_type": "stream",
     "text": [
      "Beyoncé\n"
     ]
    },
    {
     "data": {
      "text/markdown": [
       "**Paragraph**"
      ],
      "text/plain": [
       "<IPython.core.display.Markdown object>"
      ]
     },
     "metadata": {},
     "output_type": "display_data"
    },
    {
     "name": "stdout",
     "output_type": "stream",
     "text": [
      "In 2011, documents obtained by WikiLeaks revealed that Beyoncé was one of many entertainers who performed for the family of Libyan ruler Muammar Gaddafi. Rolling Stone reported that the music industry was urging them to return the money they earned for the concerts; a spokesperson for Beyoncé later confirmed to The Huffington Post that she donated the money to the Clinton Bush Haiti Fund. Later that year she became the first solo female artist to headline the main Pyramid stage at the 2011 Glastonbury Festival in over twenty years, and was named the highest-paid performer in the world per minute.\n"
     ]
    },
    {
     "data": {
      "text/markdown": [
       "**Question**"
      ],
      "text/plain": [
       "<IPython.core.display.Markdown object>"
      ]
     },
     "metadata": {},
     "output_type": "display_data"
    },
    {
     "name": "stdout",
     "output_type": "stream",
     "text": [
      "When did this leak happen?\n"
     ]
    },
    {
     "data": {
      "text/markdown": [
       "**Answer**"
      ],
      "text/plain": [
       "<IPython.core.display.Markdown object>"
      ]
     },
     "metadata": {},
     "output_type": "display_data"
    },
    {
     "name": "stdout",
     "output_type": "stream",
     "text": [
      "3\n",
      "2011\n"
     ]
    }
   ],
   "source": [
    "titleId = 1\n",
    "paragraphId = 18 \n",
    "questionId = 6\n",
    "\n",
    "showQuestion(titleId, paragraphId, questionId)"
   ]
  },
  {
   "cell_type": "markdown",
   "metadata": {},
   "source": [
    "That's just a bad question. It could only be asked in combination with the text."
   ]
  },
  {
   "cell_type": "code",
   "execution_count": 123,
   "metadata": {},
   "outputs": [
    {
     "data": {
      "text/html": [
       "<div>\n",
       "<style scoped>\n",
       "    .dataframe tbody tr th:only-of-type {\n",
       "        vertical-align: middle;\n",
       "    }\n",
       "\n",
       "    .dataframe tbody tr th {\n",
       "        vertical-align: top;\n",
       "    }\n",
       "\n",
       "    .dataframe thead th {\n",
       "        text-align: right;\n",
       "    }\n",
       "</style>\n",
       "<table border=\"1\" class=\"dataframe\">\n",
       "  <thead>\n",
       "    <tr style=\"text-align: right;\">\n",
       "      <th></th>\n",
       "      <th>sentence</th>\n",
       "      <th>paragraph</th>\n",
       "    </tr>\n",
       "  </thead>\n",
       "  <tbody>\n",
       "    <tr>\n",
       "      <th>21911</th>\n",
       "      <td>1.0</td>\n",
       "      <td>1.0</td>\n",
       "    </tr>\n",
       "    <tr>\n",
       "      <th>39394</th>\n",
       "      <td>1.0</td>\n",
       "      <td>1.0</td>\n",
       "    </tr>\n",
       "    <tr>\n",
       "      <th>45064</th>\n",
       "      <td>1.0</td>\n",
       "      <td>1.0</td>\n",
       "    </tr>\n",
       "    <tr>\n",
       "      <th>48874</th>\n",
       "      <td>1.0</td>\n",
       "      <td>1.0</td>\n",
       "    </tr>\n",
       "    <tr>\n",
       "      <th>53226</th>\n",
       "      <td>1.0</td>\n",
       "      <td>1.0</td>\n",
       "    </tr>\n",
       "    <tr>\n",
       "      <th>67425</th>\n",
       "      <td>1.0</td>\n",
       "      <td>1.0</td>\n",
       "    </tr>\n",
       "  </tbody>\n",
       "</table>\n",
       "</div>"
      ],
      "text/plain": [
       "       sentence  paragraph\n",
       "21911       1.0        1.0\n",
       "39394       1.0        1.0\n",
       "45064       1.0        1.0\n",
       "48874       1.0        1.0\n",
       "53226       1.0        1.0\n",
       "67425       1.0        1.0"
      ]
     },
     "execution_count": 123,
     "metadata": {},
     "output_type": "execute_result"
    }
   ],
   "source": [
    "questionContainmentDf[questionContainmentDf['sentence'] == 1]"
   ]
  },
  {
   "cell_type": "code",
   "execution_count": 126,
   "metadata": {},
   "outputs": [
    {
     "data": {
      "text/plain": [
       "(258, 23, 0)"
      ]
     },
     "execution_count": 126,
     "metadata": {},
     "output_type": "execute_result"
    }
   ],
   "source": [
    "getQuestionAt(53226)"
   ]
  },
  {
   "cell_type": "code",
   "execution_count": 127,
   "metadata": {
    "scrolled": false
   },
   "outputs": [
    {
     "data": {
      "text/markdown": [
       "**Title**"
      ],
      "text/plain": [
       "<IPython.core.display.Markdown object>"
      ]
     },
     "metadata": {},
     "output_type": "display_data"
    },
    {
     "name": "stdout",
     "output_type": "stream",
     "text": [
      "Utrecht\n"
     ]
    },
    {
     "data": {
      "text/markdown": [
       "**Paragraph**"
      ],
      "text/plain": [
       "<IPython.core.display.Markdown object>"
      ]
     },
     "metadata": {},
     "output_type": "display_data"
    },
    {
     "name": "stdout",
     "output_type": "stream",
     "text": [
      "Utrecht city has an active cultural life, and in the Netherlands is second only to Amsterdam. There are several theatres and theatre companies. The 1941 main city theatre was built by Dudok. Besides theatres there is a large number of cinemas including three arthouse cinemas. Utrecht is host to the international Early Music Festival (Festival Oude Muziek, for music before 1800) and the Netherlands Film Festival. The city has an important classical music hall Vredenburg (1979 by Herman Hertzberger). Its acoustics are considered among the best of the 20th-century original music halls.[citation needed] The original Vredenburg music hall has been redeveloped as part of the larger station area redevelopment plan and in 2014 has gained additional halls that allowed its merger with the rock club Tivoli and the SJU jazzpodium. There are several other venues for music throughout the city. Young musicians are educated in the conservatory, a department of the Utrecht School of the Arts. There is a specialised museum of automatically playing musical instruments.\n"
     ]
    },
    {
     "data": {
      "text/markdown": [
       "**Question**"
      ],
      "text/plain": [
       "<IPython.core.display.Markdown object>"
      ]
     },
     "metadata": {},
     "output_type": "display_data"
    },
    {
     "name": "stdout",
     "output_type": "stream",
     "text": [
      "Cultural life in Utrecht is second to \n"
     ]
    },
    {
     "data": {
      "text/markdown": [
       "**Answer**"
      ],
      "text/plain": [
       "<IPython.core.display.Markdown object>"
      ]
     },
     "metadata": {},
     "output_type": "display_data"
    },
    {
     "name": "stdout",
     "output_type": "stream",
     "text": [
      "0\n",
      "Utrecht city has an active cultural life, and in the Netherlands is second only to Amsterdam\n"
     ]
    }
   ],
   "source": [
    "titleId = 258\n",
    "paragraphId = 23 \n",
    "questionId = 0\n",
    "\n",
    "showQuestion(titleId, paragraphId, questionId)"
   ]
  },
  {
   "cell_type": "markdown",
   "metadata": {},
   "source": [
    "Strange question. The question words all appear in the sentence, but not in order. But the answer is the entire sentence, which obviously has needless information inside it. Looking further into it, the question is actually wrong, because it should state second *in Netherlands*. This question should be scrapped..."
   ]
  },
  {
   "cell_type": "code",
   "execution_count": 129,
   "metadata": {},
   "outputs": [
    {
     "data": {
      "text/plain": [
       "(341, 25, 2)"
      ]
     },
     "execution_count": 129,
     "metadata": {},
     "output_type": "execute_result"
    }
   ],
   "source": [
    "getQuestionAt(67425)"
   ]
  },
  {
   "cell_type": "code",
   "execution_count": 130,
   "metadata": {},
   "outputs": [
    {
     "data": {
      "text/markdown": [
       "**Title**"
      ],
      "text/plain": [
       "<IPython.core.display.Markdown object>"
      ]
     },
     "metadata": {},
     "output_type": "display_data"
    },
    {
     "name": "stdout",
     "output_type": "stream",
     "text": [
      "Energy\n"
     ]
    },
    {
     "data": {
      "text/markdown": [
       "**Paragraph**"
      ],
      "text/plain": [
       "<IPython.core.display.Markdown object>"
      ]
     },
     "metadata": {},
     "output_type": "display_data"
    },
    {
     "name": "stdout",
     "output_type": "stream",
     "text": [
      "Thermodynamics divides energy transformation into two kinds: reversible processes and irreversible processes. An irreversible process is one in which energy is dissipated (spread) into empty energy states available in a volume, from which it cannot be recovered into more concentrated forms (fewer quantum states), without degradation of even more energy. A reversible process is one in which this sort of dissipation does not happen. For example, conversion of energy from one type of potential field to another, is reversible, as in the pendulum system described above. In processes where heat is generated, quantum states of lower energy, present as possible excitations in fields between atoms, act as a reservoir for part of the energy, from which it cannot be recovered, in order to be converted with 100% efficiency into other forms of energy. In this case, the energy must partly stay as heat, and cannot be completely recovered as usable energy, except at the price of an increase in some other kind of heat-like increase in disorder in quantum states, in the universe (such as an expansion of matter, or a randomisation in a crystal).\n"
     ]
    },
    {
     "data": {
      "text/markdown": [
       "**Question**"
      ],
      "text/plain": [
       "<IPython.core.display.Markdown object>"
      ]
     },
     "metadata": {},
     "output_type": "display_data"
    },
    {
     "name": "stdout",
     "output_type": "stream",
     "text": [
      "A reversible process is one in which this does not happen.\n"
     ]
    },
    {
     "data": {
      "text/markdown": [
       "**Answer**"
      ],
      "text/plain": [
       "<IPython.core.display.Markdown object>"
      ]
     },
     "metadata": {},
     "output_type": "display_data"
    },
    {
     "name": "stdout",
     "output_type": "stream",
     "text": [
      "406\n",
      "dissipation\n"
     ]
    }
   ],
   "source": [
    "titleId = 341\n",
    "paragraphId = 25 \n",
    "questionId = 2\n",
    "\n",
    "showQuestion(titleId, paragraphId, questionId)"
   ]
  },
  {
   "cell_type": "markdown",
   "metadata": {},
   "source": [
    "This is, basically, just the question I expect to generate. The answer is removed and the sentence is descriptive enough to fill in the missing word."
   ]
  },
  {
   "cell_type": "markdown",
   "metadata": {},
   "source": [
    "### Summary"
   ]
  },
  {
   "cell_type": "markdown",
   "metadata": {},
   "source": [
    "The assumption that the **question is mostly consisted of words from the sentence the answer is in** seems correct.\n",
    "\n",
    "There are some obvious differences like:\n",
    "- **Question-like words** are added - who, why, when...\n",
    "- **Synonyms** are used instead of the words used in the sentence\n",
    "- Changing the sentence to a question also changes the **tense** of the word.\n",
    "- In long sentences, only a **part of the sentence is used**. Like if the sentence is separated with commas, the comma actually divides two logical statements.\n",
    "\n",
    "I also managed to find some outliers which turned out to be not-so-well asked questions."
   ]
  },
  {
   "cell_type": "code",
   "execution_count": null,
   "metadata": {},
   "outputs": [],
   "source": []
  }
 ],
 "metadata": {
  "kernelspec": {
   "display_name": "Python 3",
   "language": "python",
   "name": "python3"
  },
  "language_info": {
   "codemirror_mode": {
    "name": "ipython",
    "version": 3
   },
   "file_extension": ".py",
   "mimetype": "text/x-python",
   "name": "python",
   "nbconvert_exporter": "python",
   "pygments_lexer": "ipython3",
   "version": "3.6.2"
  }
 },
 "nbformat": 4,
 "nbformat_minor": 2
}
